{
  "nbformat": 4,
  "nbformat_minor": 0,
  "metadata": {
    "colab": {
      "provenance": []
    },
    "kernelspec": {
      "name": "python3",
      "display_name": "Python 3"
    },
    "language_info": {
      "name": "python"
    }
  },
  "cells": [
    {
      "cell_type": "markdown",
      "source": [
        "se busca minimizar $\\cosh(x)$ para lo cual se propone:\n",
        "\n",
        "*   $x_0=2$\n",
        "*   $d_k=-1$\n",
        "* $\\lambda_k=2^{-(k+1)}$\n",
        "\n",
        "$x_{k+1}=x_k+\\lambda*dk$\n",
        "\n",
        "\n",
        "\n"
      ],
      "metadata": {
        "id": "vCjyagv220ik"
      }
    },
    {
      "cell_type": "code",
      "execution_count": null,
      "metadata": {
        "colab": {
          "base_uri": "https://localhost:8080/"
        },
        "id": "bR_KEe0G1lxh",
        "outputId": "91062bd0-a53c-42a6-8fba-aa9d5a1ba6fe"
      },
      "outputs": [
        {
          "output_type": "stream",
          "name": "stdout",
          "text": [
            "it= 0 f(x)= 2.352409615243247 x= 1.5\n",
            "it= 1 f(x)= 1.8884238771610158 x= 1.25\n",
            "it= 2 f(x)= 1.7024346581381904 x= 1.125\n",
            "it= 3 f(x)= 1.6195933483743679 x= 1.0625\n",
            "it= 4 f(x)= 1.5805651684505868 x= 1.03125\n",
            "it= 5 f(x)= 1.5616322688154636 x= 1.015625\n",
            "it= 6 f(x)= 1.552309078860815 x= 1.0078125\n",
            "it= 7 f(x)= 1.547683048938425 x= 1.00390625\n",
            "it= 8 f(x)= 1.545378894299576 x= 1.001953125\n",
            "it= 9 f(x)= 1.54422902821157 x= 1.0009765625\n"
          ]
        }
      ],
      "source": [
        "import numpy as np\n",
        "x=2 #punto inicial\n",
        "for k in range(10):\n",
        " dk=-1 #la direccion de descenso se ha fijado en -1\n",
        " lam=2**-(k+1) #propuesta para el lamda\n",
        " x=x+lam*dk\n",
        " fx=np.cosh(x)\n",
        " print ('it=',k,'f(x)=',fx,'x=',x ) #imprimimos"
      ]
    },
    {
      "cell_type": "markdown",
      "source": [
        "Se espera que el resultado coincida con la solucion de la derivada igualada a 0  \n",
        "$\\sinh(x)=0$  \n",
        "$x=0$  \n",
        "$\\cosh(0)=1$  \n",
        "El resultado no coincide porque la eleccion de $λ_k$ es muy pequeño"
      ],
      "metadata": {
        "id": "V3xZ0VCB4qM1"
      }
    }
  ]
}